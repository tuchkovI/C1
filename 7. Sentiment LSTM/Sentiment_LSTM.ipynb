{
 "cells": [
  {
   "cell_type": "markdown",
   "metadata": {},
   "source": [
    "---\n",
    "### Load in and visualize the data"
   ]
  },
  {
   "cell_type": "code",
   "execution_count": 3,
   "metadata": {},
   "outputs": [],
   "source": [
    "import numpy as np\n",
    "\n",
    "# read data from text files\n",
    "with open('data/reviews.txt', 'r') as f:\n",
    "    reviews = f.read()\n",
    "with open('data/labels.txt', 'r') as f:\n",
    "    labels = f.read()"
   ]
  },
  {
   "cell_type": "code",
   "execution_count": 4,
   "metadata": {},
   "outputs": [
    {
     "name": "stdout",
     "output_type": "stream",
     "text": [
      "bromwell high is a cartoon comedy . it ran at the same time as some other programs about school life  such as  teachers  . my   years in the teaching profession lead me to believe that bromwell high  s satire is much closer to reality than is  teachers  . the scramble to survive financially  the insightful students who can see right through their pathetic teachers  pomp  the pettiness of the whole situation  all remind me of the schools i knew and their students . when i saw the episode in which a student repeatedly tried to burn down the school  i immediately recalled . . . . . . . . . at . . . . . . . . . . high . a classic line inspector i  m here to sack one of your teachers . student welcome to bromwell high . i expect that many adults of my age think that bromwell high is far fetched . what a pity that it isn  t   \n",
      "story of a man who has unnatural feelings for a pig . starts out with a opening scene that is a terrific example of absurd comedy . a formal orchestra audience is turned into an insane  violent mob by the crazy chantings of it  s singers . unfortunately it stays absurd the whole time with no general narrative eventually making it just too off putting . even those from the era should be turned off . the cryptic dialogue would make shakespeare seem easy to a third grader . on a technical level it  s better than you might think with some good cinematography by future great vilmos zsigmond . future stars sally kirkland and frederic forrest can be seen briefly .  \n",
      "homelessness  or houselessness as george carlin stated  has been an issue for years but never a plan to help those on the street that were once considered human who did everything from going to school  work  or vote for the matter . most people think of the homeless as just a lost cause while worrying about things such as racism  the war on iraq  pressuring kids to succeed  technology  the elections  inflation  or worrying if they  ll be next to end up on the streets .  br    br   but what if y\n",
      "\n",
      "positive\n",
      "negative\n",
      "po\n"
     ]
    }
   ],
   "source": [
    "print(reviews[:2000])\n",
    "print()\n",
    "print(labels[:20])"
   ]
  },
  {
   "cell_type": "markdown",
   "metadata": {},
   "source": [
    "## Data pre-processing\n"
   ]
  },
  {
   "cell_type": "code",
   "execution_count": 5,
   "metadata": {},
   "outputs": [
    {
     "name": "stdout",
     "output_type": "stream",
     "text": [
      "!\"#$%&'()*+,-./:;<=>?@[\\]^_`{|}~\n"
     ]
    }
   ],
   "source": [
    "from string import punctuation\n",
    "\n",
    "print(punctuation)\n",
    "\n",
    "# get rid of punctuation\n",
    "reviews = reviews.lower() # lowercase, standardize\n",
    "all_text = ''.join([c for c in reviews if c not in punctuation])"
   ]
  },
  {
   "cell_type": "code",
   "execution_count": 6,
   "metadata": {},
   "outputs": [],
   "source": [
    "# split by new lines and spaces\n",
    "reviews_split = all_text.split('\\n')\n",
    "all_text = ' '.join(reviews_split)\n",
    "# create a list of words\n",
    "words = all_text.split()"
   ]
  },
  {
   "cell_type": "code",
   "execution_count": 7,
   "metadata": {},
   "outputs": [
    {
     "data": {
      "text/plain": [
       "'bromwell high is a cartoon comedy  it ran at the same time as some other programs about school life  such as  teachers   my   years in the teaching profession lead me to believe that bromwell high  s satire is much closer to reality than is  teachers   the scramble to survive financially  the insightful students who can see right through their pathetic teachers  pomp  the pettiness of the whole situation  all remind me of the schools i knew and their students  when i saw the episode in which a student repeatedly tried to burn down the school  i immediately recalled          at           high  a classic line inspector i  m here to sack one of your teachers  student welcome to bromwell high  i expect that many adults of my age think that bromwell high is far fetched  what a pity that it isn  t   '"
      ]
     },
     "execution_count": 7,
     "metadata": {},
     "output_type": "execute_result"
    }
   ],
   "source": [
    "reviews_split[0]"
   ]
  },
  {
   "cell_type": "code",
   "execution_count": 8,
   "metadata": {},
   "outputs": [
    {
     "data": {
      "text/plain": [
       "25001"
      ]
     },
     "execution_count": 8,
     "metadata": {},
     "output_type": "execute_result"
    }
   ],
   "source": [
    "words[:30]\n",
    "\n",
    "len(reviews_split)"
   ]
  },
  {
   "cell_type": "markdown",
   "metadata": {},
   "source": [
    "### Encoding the words"
   ]
  },
  {
   "cell_type": "code",
   "execution_count": 9,
   "metadata": {},
   "outputs": [],
   "source": [
    "# feel free to use this import \n",
    "from collections import Counter\n",
    "\n",
    "def int_encoding(text, reviews_split):\n",
    "    \"\"\"\n",
    "    makes list of int encoded reviews from reviews_split according to text dictionary.\n",
    "    \"\"\"\n",
    "    ## Build a dictionary that maps words to integers\n",
    "    vocab_to_int = {}\n",
    "    int_word = dict(enumerate(set(text)))\n",
    "    for integer in int_word:\n",
    "        vocab_to_int[int_word[integer]] = integer\n",
    "\n",
    "    ## use the dict to tokenize each review in reviews_split\n",
    "    ## store the tokenized reviews in reviews_ints\n",
    "    reviews_ints = []\n",
    "    for review in reviews_split:\n",
    "        temp = []\n",
    "        for word in review.split():\n",
    "            temp.append(vocab_to_int[word])\n",
    "        reviews_ints.append(temp)\n",
    "    return reviews_ints\n",
    "\n",
    "reviews_ints = int_encoding(words, reviews_split)"
   ]
  },
  {
   "cell_type": "markdown",
   "metadata": {},
   "source": [
    "## testing"
   ]
  },
  {
   "cell_type": "code",
   "execution_count": 10,
   "metadata": {},
   "outputs": [
    {
     "name": "stdout",
     "output_type": "stream",
     "text": [
      "Tokenized review: \n",
      " [45107, 31207, 49935, 22462, 66089, 57726, 23584, 40766, 67955, 623, 73828, 31616, 17718, 14031, 55189, 3521, 12766, 5174, 4002, 63657, 42878, 9480, 10817, 257, 72669, 68400, 79, 13601, 20292, 46935, 57507, 22154, 70785, 5174, 73863, 38594, 31207, 35167, 31616, 9480, 71547, 63249, 36239, 46549, 18114, 9480, 64442, 22462, 38572, 3521, 8720, 52523, 22711, 60525, 53735, 14064, 19695, 22462, 69879, 9480, 9122, 42878, 49245, 24270, 66787, 5174, 20856, 57159, 9480, 25546, 36664, 31207, 60525, 8339, 11212, 57297, 24586, 11553, 5174, 2574, 27367, 42878, 9480, 55167, 13372, 13372, 14031, 25008, 8339, 14479, 72669, 26993, 3521, 9064, 5174, 51480, 42878, 9480, 55167, 31616, 3521, 19030, 19628, 9480, 45109, 14479, 68400, 1377, 22154, 3521, 31828, 9480, 45223, 23125, 3521, 73503, 20896, 42878, 9480, 11139, 3521, 54467, 16784, 57507, 14479, 68400, 23410, 5174, 34428, 25008, 42341, 29503, 56645, 5174, 24586, 64442, 257, 70832, 62580, 70141, 29503, 63775, 13372, 13372, 36467, 31833, 20292, 52034, 20292, 5582, 22462, 70141, 30801, 3521, 36202, 36794, 20292, 40766, 57507, 71357, 9480, 64215, 36632, 52101, 5174, 7712, 3521, 9064, 35736, 3521, 66220, 49095, 36964, 25097, 5174, 34428, 8339, 72367, 39712, 51480, 71357, 9480, 55167, 31616, 46379, 17447, 19628, 9480, 45109, 8339, 70141, 57225, 72367, 39712, 39599, 25008, 72367, 41649, 35736, 3521, 43328, 8794, 18114, 35713, 71447, 9419, 9480, 9064, 29503, 42878, 54097, 70141, 70832, 11135, 42878, 9480, 10817, 35736, 3521, 40836, 42878, 53479, 11815, 5174, 3835, 53479, 37792, 63673, 54097, 72367, 39712, 51156, 49520, 68238, 9480, 29697, 72367, 29503, 26993, 9480, 53629, 11183, 3500, 3521, 17405, 8807, 42341, 29503, 12358, 42878, 53479, 11847, 54097, 70141, 72402, 35522, 35385, 33319, 3521, 22486, 3500, 9480, 23064, 18114, 9956, 36804, 7178, 27226, 623, 33987, 19881, 20292, 60466, 30511, 14042, 2889, 72016, 31828, 16784, 72016, 32216, 41575, 63004, 70775, 16784, 62060, 7750, 24052, 20292, 15510, 47465, 36524, 5174, 9480, 55167, 11212, 29422, 73197, 70141, 35817, 51156, 72367, 29503, 42205, 36524, 5174, 33791, 18087, 10769, 56645, 72367, 68400, 46935, 62351, 26903, 36202, 54097, 42341, 29503, 64883, 31207, 61333, 69206, 31207, 24586, 43744, 13372, 13372, 22711, 9480, 40580, 66824, 73339, 9956, 16784, 70141, 16909, 51156, 13964, 5174, 20296, 31495, 53162, 53374, 66039, 5174, 24586, 41314, 18114, 36467, 31833, 33210, 53236, 54097, 22858, 5174, 26903, 3521, 28665, 42341, 934, 3521, 26463, 63987, 38817, 5174, 53479, 7762, 38594, 19695, 22462, 70901, 32056, 68149, 34705, 31207, 45701, 31616, 9480, 71547, 5174, 58752, 25008, 42341, 29503, 56645, 35416, 64193, 70485, 14042, 2889, 42341, 9480, 11553, 58936, 31207, 42878, 9480, 35522, 65808, 35713, 3521, 2365, 9064, 56645, 43179, 36202, 36239, 39599, 62351, 11212, 55615, 51156, 9711, 25008, 5174, 39599, 35736, 42315, 13859, 57438, 11212, 58265, 41077, 42341, 5174, 9480, 64442, 73883, 18114, 31214, 42341, 56645, 21942, 13859, 13372, 13372, 31207, 57438, 49904, 67799, 39737, 1714, 14479, 5174, 4002, 35341]\n"
     ]
    }
   ],
   "source": [
    "# stats about vocabulary\n",
    "#print('Unique words: ', len((vocab_to_int)))  # should ~ 74000+\n",
    "#print()\n",
    "\n",
    "# print tokens in first review\n",
    "print('Tokenized review: \\n', reviews_ints[2][:1000])"
   ]
  },
  {
   "cell_type": "markdown",
   "metadata": {},
   "source": [
    "### Encoding the labels\n"
   ]
  },
  {
   "cell_type": "code",
   "execution_count": 11,
   "metadata": {},
   "outputs": [],
   "source": [
    "# 1=positive, 0=negative label conversion\n",
    "l = lambda x: 1 if x=='positive' else 0\n",
    "encoded_labels = list(map(l, labels.split('\\n')))"
   ]
  },
  {
   "cell_type": "markdown",
   "metadata": {},
   "source": [
    "### Removing Outliers\n",
    "\n",
    "We want to make sure that our reviews are in good shape for standard processing. That is, our network will expect a standard input text size, and so, we'll want to reshape our reviews with 2 steps:\n",
    "\n",
    "1. Getting rid of extremely long or short reviews\n",
    "2. Padding the remaining data so that we have reviews of the same length."
   ]
  },
  {
   "cell_type": "code",
   "execution_count": 12,
   "metadata": {},
   "outputs": [
    {
     "name": "stdout",
     "output_type": "stream",
     "text": [
      "Zero-length reviews: 1\n",
      "Maximum review length: 2514\n"
     ]
    }
   ],
   "source": [
    "# outlier review stats\n",
    "review_lens = Counter([len(x) for x in reviews_ints])\n",
    "print(\"Zero-length reviews: {}\".format(review_lens[0]))\n",
    "print(\"Maximum review length: {}\".format(max(review_lens)))"
   ]
  },
  {
   "cell_type": "code",
   "execution_count": 13,
   "metadata": {},
   "outputs": [
    {
     "data": {
      "text/plain": [
       "25001"
      ]
     },
     "execution_count": 13,
     "metadata": {},
     "output_type": "execute_result"
    }
   ],
   "source": [
    "len(encoded_labels)"
   ]
  },
  {
   "cell_type": "code",
   "execution_count": 14,
   "metadata": {},
   "outputs": [
    {
     "name": "stdout",
     "output_type": "stream",
     "text": [
      "Number of reviews before removing outliers:  25001\n",
      "Number of labels after removing outliers:  25001\n",
      "Number of reviews after removing outliers:  25000\n",
      "Number of labels after removing outliers:  25000\n"
     ]
    }
   ],
   "source": [
    "print('Number of reviews before removing outliers: ', len(reviews_ints))\n",
    "print('Number of labels after removing outliers: ', len(encoded_labels))\n",
    "\n",
    "## removing any reviews/labels with 0 length from the reviews_ints list.\n",
    "\n",
    "for i in range(len(reviews_ints)):\n",
    "    if len(reviews_ints[i]) == 0:\n",
    "        reviews_ints.pop(i)\n",
    "        encoded_labels.pop(i)\n",
    "\n",
    "print('Number of reviews after removing outliers: ', len(reviews_ints))\n",
    "print('Number of labels after removing outliers: ', len(encoded_labels))"
   ]
  },
  {
   "cell_type": "markdown",
   "metadata": {},
   "source": [
    "## Defining additional functions\n",
    "\n",
    "pad_features "
   ]
  },
  {
   "cell_type": "code",
   "execution_count": 15,
   "metadata": {},
   "outputs": [],
   "source": [
    "def cut_add(l, seq_length):\n",
    "    '''\n",
    "    Cut or pad features until it size equals to seq_length\n",
    "    '''\n",
    "    if len(l)>=seq_length:\n",
    "        return l[:seq_length]\n",
    "    else:\n",
    "        for i in range(seq_length-len(l)):\n",
    "            l.append(0)\n",
    "        return l\n",
    "\n",
    "def pad_features(reviews_ints, seq_length):\n",
    "    ''' Return features of review_ints, where each review is padded with 0's \n",
    "        or truncated to the input seq_length.\n",
    "    '''\n",
    "    ## implement function\n",
    "    features = np.zeros([len(reviews_ints), seq_length])\n",
    "    for i in range(len(reviews_ints)):\n",
    "        reviews_ints[i] = reviews_ints[i][::-1] \n",
    "    for i in range(len(reviews_ints)):\n",
    "        features[i] = cut_add(reviews_ints[i], seq_length)[::-1]\n",
    "        \n",
    "    return np.array(features)"
   ]
  },
  {
   "cell_type": "code",
   "execution_count": 16,
   "metadata": {},
   "outputs": [
    {
     "name": "stdout",
     "output_type": "stream",
     "text": [
      "[[    0.     0.     0. ... 42341. 35817. 51156.]\n",
      " [    0.     0.     0. ... 24586. 57633.  6842.]\n",
      " [29503. 12358. 42878. ...  5174.  4002. 35341.]\n",
      " ...\n",
      " [29781. 18114. 42315. ... 52281. 28439. 35235.]\n",
      " [    0.     0.     0. ... 35522. 69570. 22154.]\n",
      " [    0.     0.     0. ... 49904. 70832. 48038.]]\n"
     ]
    }
   ],
   "source": [
    "# Testing\n",
    "\n",
    "seq_length = 200\n",
    "\n",
    "features = pad_features(reviews_ints, seq_length=seq_length)\n",
    "encoded_labels = np.array(encoded_labels)\n",
    "\n",
    "## test statements - do not change - ##\n",
    "assert len(features)==len(reviews_ints), \"Your features should have as many rows as reviews.\"\n",
    "assert len(features[0])==seq_length, \"Each feature row should contain seq_length values.\"\n",
    "\n",
    "# print first 10 values of the first 30 batches \n",
    "print(features)"
   ]
  },
  {
   "cell_type": "markdown",
   "metadata": {},
   "source": [
    "## Creating training, validation and test sets"
   ]
  },
  {
   "cell_type": "code",
   "execution_count": 17,
   "metadata": {},
   "outputs": [
    {
     "name": "stdout",
     "output_type": "stream",
     "text": [
      "Train set: (20000, 200)\n",
      "Validation set set: (2500, 200)\n",
      "Test set: (2500, 200)\n"
     ]
    }
   ],
   "source": [
    "split_frac = 0.8\n",
    "split_int = int(len(features)*split_frac)\n",
    "## split data into training, validation, and test data (features and labels, x and y)\n",
    "train_x = features[:split_int]\n",
    "train_y = encoded_labels[:split_int]\n",
    "\n",
    "valid_x = features[split_int:split_int+int((len(features)-split_int)/2)]\n",
    "valid_y = encoded_labels[split_int:split_int+int((len(features)-split_int)/2)]\n",
    "\n",
    "test_x = features[split_int+int((len(features)-split_int)/2):]\n",
    "test_y = encoded_labels[split_int+int((len(features)-split_int)/2):]\n",
    "\n",
    "## print out the shapes of our feature data\n",
    "print('Train set:', train_x.shape)\n",
    "print('Validation set set:', valid_x.shape)\n",
    "print('Test set:', test_x.shape)"
   ]
  },
  {
   "cell_type": "markdown",
   "metadata": {},
   "source": [
    "---\n",
    "## making dataloaders"
   ]
  },
  {
   "cell_type": "code",
   "execution_count": 18,
   "metadata": {},
   "outputs": [],
   "source": [
    "import torch\n",
    "from torch.utils.data import TensorDataset, DataLoader\n",
    "\n",
    "# create Tensor datasets\n",
    "train_data = TensorDataset(torch.from_numpy(train_x), torch.from_numpy(train_y))\n",
    "valid_data = TensorDataset(torch.from_numpy(valid_x), torch.from_numpy(valid_y))\n",
    "test_data = TensorDataset(torch.from_numpy(test_x), torch.from_numpy(test_y))\n",
    "\n",
    "# dataloaders\n",
    "batch_size = 50\n",
    "\n",
    "# make sure to SHUFFLE your data\n",
    "train_loader = DataLoader(train_data, shuffle=True, batch_size=batch_size)\n",
    "valid_loader = DataLoader(valid_data, shuffle=True, batch_size=batch_size)\n",
    "test_loader = DataLoader(test_data, shuffle=True, batch_size=batch_size)"
   ]
  },
  {
   "cell_type": "code",
   "execution_count": 19,
   "metadata": {},
   "outputs": [
    {
     "name": "stdout",
     "output_type": "stream",
     "text": [
      "Sample input size:  torch.Size([50, 200])\n",
      "Sample input: \n",
      " tensor([[    0.,     0.,     0.,  ...,  5174.,  9480., 40762.],\n",
      "        [  257., 56645.,  3521.,  ..., 51156., 72990., 42341.],\n",
      "        [46093., 70832., 41314.,  ...,  9480., 66586., 11488.],\n",
      "        ...,\n",
      "        [    0.,     0.,     0.,  ...,  3521., 66586., 44891.],\n",
      "        [    0.,     0.,     0.,  ..., 52283., 58659., 46567.],\n",
      "        [ 5174.,  9480., 56705.,  ..., 71357., 49904., 54693.]],\n",
      "       dtype=torch.float64)\n",
      "\n",
      "Sample label size:  torch.Size([50])\n",
      "Sample label: \n",
      " tensor([0, 1, 0, 0, 1, 1, 0, 0, 0, 0, 1, 0, 1, 1, 0, 1, 0, 0, 1, 0, 0, 0, 1, 0,\n",
      "        1, 0, 1, 1, 1, 1, 1, 0, 1, 1, 1, 1, 0, 0, 0, 0, 1, 1, 0, 0, 1, 0, 0, 1,\n",
      "        0, 1], dtype=torch.int32)\n"
     ]
    },
    {
     "data": {
      "text/plain": [
       "torch.Size([50, 200])"
      ]
     },
     "execution_count": 19,
     "metadata": {},
     "output_type": "execute_result"
    }
   ],
   "source": [
    "# obtain one batch of training data\n",
    "dataiter = iter(train_loader)\n",
    "sample_x, sample_y = dataiter.next()\n",
    "\n",
    "print('Sample input size: ', sample_x.size()) # batch_size, seq_length\n",
    "print('Sample input: \\n', sample_x)\n",
    "print()\n",
    "print('Sample label size: ', sample_y.size()) # batch_size\n",
    "print('Sample label: \\n', sample_y)\n",
    "\n",
    "\n",
    "torch.from_numpy(np.array(sample_x)).shape"
   ]
  },
  {
   "cell_type": "code",
   "execution_count": 20,
   "metadata": {},
   "outputs": [
    {
     "name": "stdout",
     "output_type": "stream",
     "text": [
      "Training on GPU.\n"
     ]
    }
   ],
   "source": [
    "# Checking if GPU is available\n",
    "train_on_gpu=torch.cuda.is_available()\n",
    "\n",
    "if(train_on_gpu):\n",
    "    print('Training on GPU.')\n",
    "else:\n",
    "    print('No GPU available, training on CPU.')"
   ]
  },
  {
   "cell_type": "markdown",
   "metadata": {},
   "source": [
    "## Defining network"
   ]
  },
  {
   "cell_type": "code",
   "execution_count": 21,
   "metadata": {},
   "outputs": [],
   "source": [
    "import torch.nn as nn\n",
    "\n",
    "class SentimentRNN(nn.Module):\n",
    "    \"\"\"\n",
    "    The RNN model that will be used to perform Sentiment analysis.\n",
    "    \"\"\"\n",
    "\n",
    "    def __init__(self, vocab_size, output_size, embedding_dim, hidden_dim, n_layers, drop_prob=0.5):\n",
    "        \"\"\"\n",
    "        Initialize the model by setting up the layers.\n",
    "        \"\"\"\n",
    "        super(SentimentRNN, self).__init__()\n",
    "        #for backprop/init_hidden\n",
    "        self.output_size = output_size\n",
    "        self.n_layers = n_layers\n",
    "        self.hidden_dim = hidden_dim\n",
    "        #for saving model\n",
    "        self.embedding_dim= embedding_dim\n",
    "        self.vocab_size = vocab_size\n",
    "        \n",
    "        # define all layers\n",
    "        self.embed = nn.Embedding(vocab_size, embedding_dim)\n",
    "        self.dropout = nn.Dropout(drop_prob)\n",
    "        self.lstm = nn.LSTM(embedding_dim, hidden_dim, n_layers, batch_first = True, dropout = 0.5)\n",
    "        self.fc = nn.Linear(hidden_dim, output_size)\n",
    "        self.sigmoid = nn.Sigmoid()\n",
    "        \n",
    "    def forward(self, x, hidden):\n",
    "        \"\"\"\n",
    "        Perform a forward pass of our model on some input and hidden state.\n",
    "        \"\"\"\n",
    "\n",
    "        x = torch.tensor(x).to('cuda').long()\n",
    "        \n",
    "        x = self.embed(x)\n",
    "        lstm_out, hidden = self.lstm(x, hidden)\n",
    "        lstm_out = self.dropout(lstm_out)\n",
    "        \n",
    "        lstm_out = lstm_out[:, -1, :]\n",
    "        #flatting\n",
    "        fc_input = lstm_out.contiguous().view(-1, self.hidden_dim)\n",
    "        \n",
    "        fc_out = self.fc(fc_input)\n",
    "        out = self.sigmoid(fc_out)\n",
    "        \n",
    "        # return last sigmoid output and hidden state\n",
    "        return out, hidden\n",
    "    \n",
    "    \n",
    "    def init_hidden(self, batch_size):\n",
    "        ''' Initializes hidden state '''\n",
    "        # Create two new tensors with sizes n_layers x batch_size x hidden_dim,\n",
    "        # initialized to zero, for hidden state and cell state of LSTM\n",
    "        weight = next(self.parameters()).data\n",
    "        \n",
    "        if(train_on_gpu):\n",
    "            hidden = (weight.new(self.n_layers, batch_size, self.hidden_dim).zero_().cuda(),\n",
    "                      weight.new(self.n_layers, batch_size, self.hidden_dim).zero_().cuda())\n",
    "        else:\n",
    "            hidden = (weight.new(self.n_layers, batch_size, self.hidden_dim).zero_(),\n",
    "                      weight.new(self.n_layers, batch_size, self.hidden_dim).zero_())\n",
    "        \n",
    "        return hidden\n",
    "        "
   ]
  },
  {
   "cell_type": "markdown",
   "metadata": {},
   "source": [
    "## Instantiating the network\n",
    "\n",
    "Here, we'll instantiate the network, defining the hyperparameters.\n",
    "\n",
    "* `vocab_size`: Size of our vocabulary or the range of values for our input, word tokens.\n",
    "* `output_size`: Size of our desired output; (2)\n",
    "* `embedding_dim`: Number of columns in the embedding lookup table; size of our embeddings.\n",
    "* `hidden_dim`: Number of units in the hidden layers of our LSTM cells.\n",
    "* `n_layers`: Number of LSTM layers in the network. "
   ]
  },
  {
   "cell_type": "code",
   "execution_count": 22,
   "metadata": {},
   "outputs": [
    {
     "name": "stdout",
     "output_type": "stream",
     "text": [
      "SentimentRNN(\n",
      "  (embed): Embedding(74072, 500)\n",
      "  (dropout): Dropout(p=0.5, inplace=False)\n",
      "  (lstm): LSTM(500, 128, num_layers=2, batch_first=True, dropout=0.5)\n",
      "  (fc): Linear(in_features=128, out_features=1, bias=True)\n",
      "  (sigmoid): Sigmoid()\n",
      ")\n"
     ]
    }
   ],
   "source": [
    "# Instantiate the model w/ hyperparams\n",
    "vocab_size = len(set(words))\n",
    "output_size = 1\n",
    "embedding_dim = 500\n",
    "hidden_dim = 128\n",
    "n_layers = 2\n",
    "\n",
    "net = SentimentRNN(vocab_size, output_size, embedding_dim, hidden_dim, n_layers)\n",
    "\n",
    "print(net)"
   ]
  },
  {
   "cell_type": "code",
   "execution_count": 23,
   "metadata": {},
   "outputs": [],
   "source": [
    "# loss and optimization functions\n",
    "lr=0.001\n",
    "\n",
    "criterion = nn.BCELoss()\n",
    "optimizer = torch.optim.Adam(net.parameters(), lr=lr)"
   ]
  },
  {
   "cell_type": "code",
   "execution_count": 24,
   "metadata": {},
   "outputs": [
    {
     "name": "stderr",
     "output_type": "stream",
     "text": [
      "<ipython-input-21-6db829a63abf>:33: UserWarning: To copy construct from a tensor, it is recommended to use sourceTensor.clone().detach() or sourceTensor.clone().detach().requires_grad_(True), rather than torch.tensor(sourceTensor).\n",
      "  x = torch.tensor(x).to('cuda').long()\n"
     ]
    },
    {
     "name": "stdout",
     "output_type": "stream",
     "text": [
      "Epoch: 1/3... Step: 100... Loss: 0.593892... Val Loss: 0.645778\n",
      "Epoch: 1/3... Step: 200... Loss: 0.542995... Val Loss: 0.560587\n",
      "Epoch: 1/3... Step: 300... Loss: 0.549729... Val Loss: 0.508724\n",
      "Epoch: 1/3... Step: 400... Loss: 0.428433... Val Loss: 0.581501\n",
      "Epoch: 2/3... Step: 500... Loss: 0.511221... Val Loss: 0.525026\n",
      "Epoch: 2/3... Step: 600... Loss: 0.329264... Val Loss: 0.468024\n",
      "Epoch: 2/3... Step: 700... Loss: 0.492686... Val Loss: 0.457073\n",
      "Epoch: 2/3... Step: 800... Loss: 0.571418... Val Loss: 0.485198\n",
      "Epoch: 3/3... Step: 900... Loss: 0.295330... Val Loss: 0.534054\n",
      "Epoch: 3/3... Step: 1000... Loss: 0.513462... Val Loss: 0.444375\n",
      "Epoch: 3/3... Step: 1100... Loss: 0.397177... Val Loss: 0.419812\n",
      "Epoch: 3/3... Step: 1200... Loss: 0.404741... Val Loss: 0.410731\n"
     ]
    }
   ],
   "source": [
    "# training params\n",
    "\n",
    "epochs = 3 # 3-4 is approx where I noticed the validation loss stop decreasing\n",
    "\n",
    "counter = 0\n",
    "print_every = 100\n",
    "clip=5 # gradient clipping\n",
    "\n",
    "# move model to GPU, if available\n",
    "if(train_on_gpu):\n",
    "    net.cuda()\n",
    "\n",
    "net.train()\n",
    "# train for some number of epochs\n",
    "for e in range(epochs):\n",
    "    # initialize hidden state\n",
    "    h = net.init_hidden(batch_size)\n",
    "\n",
    "    # batch loop\n",
    "    for inputs, labels in train_loader:\n",
    "        counter += 1\n",
    "\n",
    "        if(train_on_gpu):\n",
    "            inputs, labels = inputs.cuda(), labels.cuda()\n",
    "\n",
    "        # Creating new variables for the hidden state, otherwise\n",
    "        # we'd backprop through the entire training history\n",
    "        h = tuple([each.data for each in h])\n",
    "\n",
    "        # zero accumulated gradients\n",
    "        net.zero_grad()\n",
    "\n",
    "        # get the output from the model\n",
    "        output, h = net(inputs, h)\n",
    "        # calculate the loss and perform backprop\n",
    "        \n",
    "        loss = criterion(output.squeeze(), labels.float())\n",
    "        loss.backward()\n",
    "\n",
    "        # `clip_grad_norm` helps prevent the exploding gradient problem in RNNs / LSTMs.\n",
    "        nn.utils.clip_grad_norm_(net.parameters(), clip)\n",
    "        optimizer.step()\n",
    "\n",
    "        # loss stats\n",
    "        if counter % print_every == 0:\n",
    "            # Get validation loss\n",
    "            val_h = net.init_hidden(batch_size)\n",
    "            val_losses = []\n",
    "            net.eval()\n",
    "            for inputs, labels in valid_loader:\n",
    "\n",
    "                # Creating new variables for the hidden state, otherwise\n",
    "                # we'd backprop through the entire training history\n",
    "                val_h = tuple([each.data for each in val_h])\n",
    "\n",
    "                if(train_on_gpu):\n",
    "                    inputs, labels = inputs.cuda(), labels.cuda()\n",
    "\n",
    "                output, val_h = net(inputs, val_h)\n",
    "                val_loss = criterion(output.squeeze(), labels.float())\n",
    "\n",
    "                val_losses.append(val_loss.item())\n",
    "\n",
    "            net.train()\n",
    "            print(\"Epoch: {}/{}...\".format(e+1, epochs),\n",
    "                  \"Step: {}...\".format(counter),\n",
    "                  \"Loss: {:.6f}...\".format(loss.item()),\n",
    "                  \"Val Loss: {:.6f}\".format(np.mean(val_losses)))"
   ]
  },
  {
   "cell_type": "markdown",
   "metadata": {},
   "source": [
    "## Saving model"
   ]
  },
  {
   "cell_type": "code",
   "execution_count": 53,
   "metadata": {},
   "outputs": [],
   "source": [
    "model_name = '3_epochs_128hidden_sentiment_LSTM.net'\n",
    "'vocab_size' and 'embedding_dim'\n",
    "checkpoint = {'hidden_dim': net.hidden_dim,\n",
    "              'vocab_size':net.vocab_size,\n",
    "              'embedding_dim': net.embedding_dim,\n",
    "              'n_layers': net.n_layers,\n",
    "              'state_dict': net.state_dict(),\n",
    "              'output_size': net.output_size\n",
    "             }\n",
    "\n",
    "with open(model_name, 'wb') as f:\n",
    "    torch.save(checkpoint, f)"
   ]
  },
  {
   "cell_type": "markdown",
   "metadata": {},
   "source": [
    "## Testing model on test set"
   ]
  },
  {
   "cell_type": "code",
   "execution_count": 25,
   "metadata": {},
   "outputs": [
    {
     "name": "stderr",
     "output_type": "stream",
     "text": [
      "<ipython-input-21-6db829a63abf>:33: UserWarning: To copy construct from a tensor, it is recommended to use sourceTensor.clone().detach() or sourceTensor.clone().detach().requires_grad_(True), rather than torch.tensor(sourceTensor).\n",
      "  x = torch.tensor(x).to('cuda').long()\n"
     ]
    },
    {
     "name": "stdout",
     "output_type": "stream",
     "text": [
      "Test loss: 0.433\n",
      "Test accuracy: 0.811\n"
     ]
    }
   ],
   "source": [
    "# Get test data loss and accuracy\n",
    "\n",
    "test_losses = [] # track loss\n",
    "num_correct = 0\n",
    "\n",
    "# init hidden state\n",
    "h = net.init_hidden(batch_size)\n",
    "\n",
    "net.eval()\n",
    "# iterate over test data\n",
    "for inputs, labels in test_loader:\n",
    "\n",
    "    # Creating new variables for the hidden state, otherwise\n",
    "    # we'd backprop through the entire training history\n",
    "    h = tuple([each.data for each in h])\n",
    "\n",
    "    if(train_on_gpu):\n",
    "        inputs, labels = inputs.cuda(), labels.cuda()\n",
    "    \n",
    "    # get predicted outputs\n",
    "    output, h = net(inputs, h)\n",
    "    \n",
    "    # calculate loss\n",
    "    test_loss = criterion(output.squeeze(), labels.float())\n",
    "    test_losses.append(test_loss.item())\n",
    "    \n",
    "    # convert output probabilities to predicted class (0 or 1)\n",
    "    pred = torch.round(output.squeeze())  # rounds to the nearest integer\n",
    "    \n",
    "    # compare predictions to true label\n",
    "    correct_tensor = pred.eq(labels.float().view_as(pred))\n",
    "    correct = np.squeeze(correct_tensor.numpy()) if not train_on_gpu else np.squeeze(correct_tensor.cpu().numpy())\n",
    "    num_correct += np.sum(correct)\n",
    "\n",
    "\n",
    "# -- stats! -- ##\n",
    "# avg test loss\n",
    "print(\"Test loss: {:.3f}\".format(np.mean(test_losses)))\n",
    "\n",
    "# accuracy over all test data\n",
    "test_acc = num_correct/len(test_loader.dataset)\n",
    "print(\"Test accuracy: {:.3f}\".format(test_acc))"
   ]
  },
  {
   "cell_type": "code",
   "execution_count": null,
   "metadata": {},
   "outputs": [],
   "source": []
  }
 ],
 "metadata": {
  "kernelspec": {
   "display_name": "Python 3",
   "language": "python",
   "name": "python3"
  },
  "language_info": {
   "codemirror_mode": {
    "name": "ipython",
    "version": 3
   },
   "file_extension": ".py",
   "mimetype": "text/x-python",
   "name": "python",
   "nbconvert_exporter": "python",
   "pygments_lexer": "ipython3",
   "version": "3.8.5"
  }
 },
 "nbformat": 4,
 "nbformat_minor": 2
}
