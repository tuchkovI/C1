{
 "cells": [
  {
   "cell_type": "code",
   "execution_count": 38,
   "metadata": {},
   "outputs": [],
   "source": [
    "import pandas as pd\n",
    "import pandasql\n",
    "import csv\n",
    "import datetime\n",
    "import matplotlib.pyplot as plt\n",
    "from mpl_toolkits.mplot3d import Axes3D\n",
    "import scipy.stats\n",
    "import numpy as np\n",
    "import random"
   ]
  },
  {
   "cell_type": "code",
   "execution_count": 39,
   "metadata": {},
   "outputs": [],
   "source": [
    "pathh='C:\\\\Users\\\\PC\\\\Desktop\\\\портфолио\\\\turnstile\\\\'   #Path to the file directory\n",
    "\n",
    "weather_data = pd.read_csv(pathh+'weather_underground.csv')"
   ]
  },
  {
   "cell_type": "code",
   "execution_count": 40,
   "metadata": {
    "scrolled": true
   },
   "outputs": [
    {
     "data": {
      "text/plain": [
       "'\\nProgramm \\n1. Takes list of N names of the files (.csv), consisting data from subway turnstiles, give N updated files: update_filenames[i] (in .csv format)\\nIn updated file there is only one data point for one row. (Data before update had several data point in one row).\\n2. Consolidating updated turnstile files in file master_turnstile.csv\\n3. Takes \"REGULAR\" information from master_turnstile.csv.\\n4. Adds column: difference between entries in this and previous record (Only between the same source of data).\\nIf there is difference between two sources of data or NaN about exits and entries, puts 0 in ENTRIESn column.\\n5. TIMEn rows differ only by hours. It\\'s reasonable to represent TIMEn column in hours to make data easier to analyse.\\n6. Date in weather file presented in YYYY-MM-DD format. To work with both we will format subway from DD-MM-YY to YYYY-MM-DD.\\n7. Makes statictic test of hours entries locally (for evry single turnstile) to accept of regect the normality of given data.\\n8. Makes statictic test for understending if the rain is really influence on daily entries.\\n9. Makes united dataframe for weather_data and master_turnstile.\\n10. Makes linear regression with gradient descent to predict hourly entries by rain, time and train/turnstile characteristics.\\n10a. Analyze how to replace text data (like UNIT, SCD, C/A, TIMEn) by numerous data.\\n10b. Upgrade Dataframe using new data\\n10c. Divide data on training points and 30 test points.\\n10d. Train model.\\n10e. Count R^2 and mean difference between test points and predicted (on test data) points.\\n'"
      ]
     },
     "execution_count": 40,
     "metadata": {},
     "output_type": "execute_result"
    }
   ],
   "source": [
    "\"\"\"\n",
    "Programm \n",
    "1. Takes list of N names of the files (.csv), consisting data from subway turnstiles, give N updated files: update_filenames[i] (in .csv format)\n",
    "In updated file there is only one data point for one row. (Data before update had several data point in one row).\n",
    "2. Consolidating updated turnstile files in file master_turnstile.csv\n",
    "3. Takes \"REGULAR\" information from master_turnstile.csv.\n",
    "4. Adds column: difference between entries in this and previous record (Only between the same source of data).\n",
    "If there is difference between two sources of data or NaN about exits and entries, puts 0 in ENTRIESn column.\n",
    "5. TIMEn rows differ only by hours. It's reasonable to represent TIMEn column in hours to make data easier to analyse.\n",
    "6. Date in weather file presented in YYYY-MM-DD format. To work with both we will format subway from DD-MM-YY to YYYY-MM-DD.\n",
    "7. Makes statictic test of hours entries locally (for evry single turnstile) to accept of regect the normality of given data.\n",
    "8. Makes statictic test for understending if the rain is really influence on daily entries.\n",
    "9. Makes united dataframe for weather_data and master_turnstile.\n",
    "10. Makes linear regression with gradient descent to predict hourly entries by rain, time and train/turnstile characteristics.\n",
    "10a. Analyze how to replace text data (like UNIT, SCD, C/A, TIMEn) by numerous data.\n",
    "10b. Upgrade Dataframe using new data\n",
    "10c. Divide data on training points and 30 test points.\n",
    "10d. Train model.\n",
    "10e. Count R^2 and mean difference between test points and predicted (on test data) points.\n",
    "\"\"\""
   ]
  },
  {
   "cell_type": "code",
   "execution_count": 41,
   "metadata": {},
   "outputs": [],
   "source": [
    "def txt_maker(filenames): #list of files names (with pathes)\n",
    "    new_files=[]\n",
    "    for i in range(len(filenames)):\n",
    "        with open(filenames[i], newline='') as csvfile:\n",
    "            text = csv.reader(csvfile, delimiter=' ')\n",
    "            new_rows=[]\n",
    "        \n",
    "            for row in text:\n",
    "                row[0] = row[0].split(',')\n",
    "                begin=row[0][0:3]\n",
    "                new_rows.append(row[0][:8])\n",
    "            \n",
    "                for i in range((len(row[0])-8)//5):\n",
    "                    new_rows.append(begin+row[0][8+i*5:8+(i+1)*5])\n",
    "            new_files.append(new_rows)\n",
    "    return new_files\n",
    "\n",
    "def strr(l):\n",
    "    for i in range(len(l)):\n",
    "        l[i]=str(l[i])\n",
    "    return l\n",
    "\n",
    "def summ(l):\n",
    "    s=''\n",
    "    for i in range(len(l)):\n",
    "        s+=l[i]+','\n",
    "    s=s[:-1]\n",
    "    return s\n",
    "\n",
    "def stringer(l):\n",
    "    for i in range(len(l)):\n",
    "        l[i] = summ(strr(l[i]))\n",
    "    return l\n",
    "\n",
    "def path(filenames:list, path:str):\n",
    "    for i in range(len(filenames)):\n",
    "        filenames[i] = path+filenames[i]\n",
    "    return filenames"
   ]
  },
  {
   "cell_type": "code",
   "execution_count": 42,
   "metadata": {},
   "outputs": [],
   "source": [
    "#saving updated data in format updated_filenames[i]\n",
    "\n",
    "filenames = path(['turnstile_110507.csv', 'turnstile_110528.csv'], pathh)\n",
    "\n",
    "for i in range(len(filenames)):\n",
    "    with open(filenames[i][:len(pathh)]+\"updated_\"+filenames[i][len(pathh):], \"w\") as f:\n",
    "        for j in stringer(txt_maker(filenames)[i]):\n",
    "            f.write(j+'\\n')"
   ]
  },
  {
   "cell_type": "code",
   "execution_count": 43,
   "metadata": {},
   "outputs": [],
   "source": [
    "#2. consolidating updated turnstile files\n",
    "\n",
    "with open(pathh+'master_turnstile.csv', 'w') as master_turnstile:\n",
    "        master_turnstile.write('C/A,UNIT,SCP,DATEn,TIMEn,DESCn,ENTRIESn,EXITSn\\n')\n",
    "        for filename in filenames:\n",
    "            with open(filename[:len(pathh)]+\"updated_\"+filename[len(pathh):], 'r') as f:\n",
    "                s = f.read()\n",
    "                master_turnstile.write(s)"
   ]
  },
  {
   "cell_type": "code",
   "execution_count": 44,
   "metadata": {
    "scrolled": true
   },
   "outputs": [],
   "source": [
    "#3. Choose those where DESCn is REGULAR\n",
    "turnstile_data = pd.read_csv(pathh+'master_turnstile.csv')\n",
    "df = pd.DataFrame(turnstile_data)"
   ]
  },
  {
   "cell_type": "code",
   "execution_count": 45,
   "metadata": {},
   "outputs": [],
   "source": [
    "#4.\n",
    "def entries_difference(df):\n",
    "    ENTRIESn_hourly=[]\n",
    "    for i in range(len(df['EXITSn'])):\n",
    "        try:\n",
    "            if ( (df['C/A'][i] == df['C/A'][i-1]) & (df['UNIT'][i] == df['UNIT'][i-1]) & (df['SCP'][i] == df['SCP'][i-1]) ):    \n",
    "                ENTRIESn_hourly.append(abs(df['ENTRIESn'][i]-df['ENTRIESn'][i-1]))     \n",
    "            else:\n",
    "                ENTRIESn_hourly.append(0)\n",
    "        except:\n",
    "            ENTRIESn_hourly.append(0)\n",
    "    df['ENTRIESn_hourly'] = ENTRIESn_hourly \n",
    "    return df"
   ]
  },
  {
   "cell_type": "code",
   "execution_count": 46,
   "metadata": {},
   "outputs": [],
   "source": [
    "df = entries_difference(df)"
   ]
  },
  {
   "cell_type": "code",
   "execution_count": 47,
   "metadata": {},
   "outputs": [],
   "source": [
    "#5\n",
    "def time_to_hour(time):\n",
    "    try:\n",
    "        hours = int(str(time)[1]) if str(time)[0] == '0' else int(str(time)[0:2])\n",
    "        return hours\n",
    "    except:\n",
    "        pass\n",
    "\n",
    "A=list(df['TIMEn'])\n",
    "for i in range(len(A)):\n",
    "    A[i]=time_to_hour(A[i])\n",
    "df['TIMEn'] = A "
   ]
  },
  {
   "cell_type": "code",
   "execution_count": 48,
   "metadata": {},
   "outputs": [],
   "source": [
    "#6.\n",
    "def reformat_subway_dates(date):\n",
    "    date=date[:5]+'-20'+date[6:]\n",
    "    date_formatted = datetime.datetime.strptime(date, \"%m-%d-%Y\").strftime(\"%Y-%m-%d\")\n",
    "    return date_formatted\n",
    "\n",
    "A=list(df['DATEn'])\n",
    "for i in range(len(A)):\n",
    "    A[i]=reformat_subway_dates(A[i])\n",
    "df['DATEn'] = A "
   ]
  },
  {
   "cell_type": "code",
   "execution_count": 49,
   "metadata": {},
   "outputs": [],
   "source": [
    "df.columns = ['C_A', 'UNIT','SCP','DATEn','TIMEn','DESCn','ENTRIESn','EXITSn', 'ENTRIESn_hourly']\n",
    "df = df[df['DESCn'] == 'REGULAR']"
   ]
  },
  {
   "cell_type": "code",
   "execution_count": 50,
   "metadata": {},
   "outputs": [],
   "source": [
    "df_weather_query=\"\"\"\n",
    "SELECT C_A, UNIT,SCP,DATEn,TIMEn,DESCn,ENTRIESn,EXITSn, ENTRIESn_hourly, rain\n",
    "FROM df JOIN weather_data ON weather_data.date = df.DATEn\n",
    "\"\"\"\n",
    "df=pandasql.sqldf(df_weather_query.lower(), locals())"
   ]
  },
  {
   "cell_type": "code",
   "execution_count": 51,
   "metadata": {},
   "outputs": [],
   "source": [
    "c_a=\"\"\"\n",
    "SELECT c_a, SUM(entriesn_hourly) AS c_a_entries\n",
    "FROM df\n",
    "GROUP BY c_a\n",
    "\"\"\"\n",
    "c_a_pre_dict=pandasql.sqldf(c_a.lower(), locals())\n",
    "\n",
    "c_a_pre_dict['c_a_entries'] = c_a_pre_dict['c_a_entries']/c_a_pre_dict['c_a_entries'].max()\n",
    "c_a_dict = {list(c_a_pre_dict['C_A'])[i] : list(c_a_pre_dict['c_a_entries'])[i] for i in range(len(c_a_pre_dict))}\n",
    "\n",
    "unit = \"\"\"\n",
    "SELECT UNIT, SUM(entriesn_hourly) AS unit_entries\n",
    "FROM df\n",
    "GROUP BY UNIT\n",
    "\"\"\"\n",
    "unit_pre_dict=pandasql.sqldf(unit.lower(), locals())\n",
    "\n",
    "unit_pre_dict['unit_entries'] = unit_pre_dict['unit_entries']/unit_pre_dict['unit_entries'].max()\n",
    "unit_dict = {list(unit_pre_dict['UNIT'])[i] : list(unit_pre_dict['unit_entries'])[i] for i in range(len(unit_pre_dict))}\n",
    "\n",
    "scp = \"\"\"\n",
    "SELECT SCP, SUM(entriesn_hourly) AS scp_entries\n",
    "FROM df\n",
    "GROUP BY SCP\n",
    "\"\"\"\n",
    "scp_pre_dict=pandasql.sqldf(scp.lower(), locals())\n",
    "\n",
    "scp_pre_dict['scp_entries'] = scp_pre_dict['scp_entries']/scp_pre_dict['scp_entries'].max()\n",
    "scp_dict = {list(scp_pre_dict['SCP'])[i] : list(scp_pre_dict['scp_entries'])[i] for i in range(len(scp_pre_dict))}\n",
    "\n",
    "time_dict={0:153.726340514, 1:50, 2:120, 3:1, 4:20., 5:5, 6:13, 7:13, 8:16., 9:35, 10:58, 11:250, 12:87.1879611816, 13:72, 14:200, 15:130, 16:224.358640612, 17:220, 18:750, 19:300, 20:750, 21:350, 22:701, 23:25} #following the normal distribution"
   ]
  },
  {
   "cell_type": "code",
   "execution_count": 52,
   "metadata": {},
   "outputs": [],
   "source": [
    "c_a_value=[]\n",
    "unit_value=[]\n",
    "scp_value=[]\n",
    "time_value=[]\n",
    "\n",
    "for c_a in df['C_A']:\n",
    "    c_a_value.append(c_a_dict[c_a])\n",
    "for unit in df['UNIT']:\n",
    "    unit_value.append(unit_dict[unit])\n",
    "for scp in df['SCP']:\n",
    "    scp_value.append(scp_dict[scp])\n",
    "for time in df['TIMEn']:\n",
    "    time_value.append(time_dict[time])\n",
    "\n",
    "df['c_a_value'] = c_a_value\n",
    "df['unit_value'] = unit_value\n",
    "df['scp_value'] = scp_value\n",
    "df['time_value'] = time_value\n",
    "\n",
    "df = df[['c_a_value', 'unit_value', 'scp_value', 'time_value', 'rain', 'ENTRIESn_hourly']]"
   ]
  },
  {
   "cell_type": "code",
   "execution_count": 53,
   "metadata": {},
   "outputs": [
    {
     "name": "stdout",
     "output_type": "stream",
     "text": [
      "Single turnstile p-value:  0.46715131402015686\n"
     ]
    }
   ],
   "source": [
    "#Statictics test\n",
    "#In Shapiro test p-value shows the probability of hypotesis \"data is normally distributed\" being True \n",
    "#(another words: the probabylity of null hypotesis to be True)\n",
    "\n",
    "print('Single turnstile p-value: ',scipy.stats.shapiro(df['ENTRIESn_hourly'][2:8])[1])\n",
    "\n",
    "# Conclusion: \n",
    "# Hourly entries from day to day are normally distributed by hours. (according to Shapiro test)"
   ]
  },
  {
   "cell_type": "code",
   "execution_count": 54,
   "metadata": {},
   "outputs": [],
   "source": [
    "events_frame=df\n",
    "\n",
    "# Set a random seed so we will get the same results each time\n",
    "\n",
    "random.seed(56)\n",
    "\n",
    "# Randomly select 30 events for our test set\n",
    "test_indices = set(random.sample(range(events_frame.shape[0]), 30))\n",
    "\n",
    "# Split our data into training and test data\n",
    "train_features = []\n",
    "train_labels = []\n",
    "test_features = []\n",
    "test_labels = []\n",
    "\n",
    "i = 0\n",
    "for c_a_value, unit_value, scp_value, time_value, rain, ENTRIESn_hourly in events_frame.values:\n",
    "    if i in test_indices:\n",
    "        # Use starburst as our label, and all others as our features\n",
    "        test_features.append([c_a_value, unit_value, scp_value, time_value, rain])\n",
    "        test_labels.append(ENTRIESn_hourly)\n",
    "    else:\n",
    "        train_features.append([c_a_value, unit_value, scp_value, time_value, rain])\n",
    "        train_labels.append(ENTRIESn_hourly)\n",
    "    \n",
    "    i += 1"
   ]
  },
  {
   "cell_type": "code",
   "execution_count": 55,
   "metadata": {},
   "outputs": [
    {
     "data": {
      "text/plain": [
       "LinearRegression()"
      ]
     },
     "execution_count": 55,
     "metadata": {},
     "output_type": "execute_result"
    }
   ],
   "source": [
    "import sklearn\n",
    "from sklearn import linear_model\n",
    "from sklearn.linear_model import LinearRegression\n",
    "model = linear_model.LinearRegression()\n",
    "model.fit(train_features, train_labels)"
   ]
  },
  {
   "cell_type": "code",
   "execution_count": 56,
   "metadata": {
    "scrolled": true
   },
   "outputs": [
    {
     "data": {
      "text/plain": [
       "<matplotlib.legend.Legend at 0x20f394da790>"
      ]
     },
     "execution_count": 56,
     "metadata": {},
     "output_type": "execute_result"
    },
    {
     "data": {
      "image/png": "[encoded data removed]",
      "text/plain": [
       "<Figure size 432x288 with 1 Axes>"
      ]
     },
     "metadata": {
      "needs_background": "light"
     },
     "output_type": "display_data"
    }
   ],
   "source": [
    "# Plot predicted and true interarrival times on the training set\n",
    "\n",
    "plt.plot(train_labels, color=\"green\", label=\"Given data\")\n",
    "plt.plot(model.predict(train_features), label=\"Predicted value\")\n",
    "\n",
    "plt.xlim(100, 150)\n",
    "plt.ylim(0, 1000)\n",
    "plt.xlabel(\"Entries\", fontsize=14)\n",
    "plt.ylabel(\"Hours\", fontsize=14)\n",
    "plt.legend(frameon=True, shadow=True, framealpha=0.7, loc=0, prop={\"size\": 14})"
   ]
  },
  {
   "cell_type": "code",
   "execution_count": 57,
   "metadata": {},
   "outputs": [
    {
     "data": {
      "text/plain": [
       "<matplotlib.legend.Legend at 0x20f39b759d0>"
      ]
     },
     "execution_count": 57,
     "metadata": {},
     "output_type": "execute_result"
    },
    {
     "data": {
      "image/png": "[encoded data removed]",
      "text/plain": [
       "<Figure size 432x288 with 1 Axes>"
      ]
     },
     "metadata": {
      "needs_background": "light"
     },
     "output_type": "display_data"
    }
   ],
   "source": [
    "# Plot predicted and true time since selection on the test set \n",
    "\n",
    "plt.plot(test_labels, color=\"green\", label=\"True value\")\n",
    "plt.plot(model.predict(test_features), label=\"Predicted value\")\n",
    "\n",
    "plt.xlabel(\"Selection number\", fontsize=14)\n",
    "plt.ylabel(\"Time since selection\", fontsize=14)\n",
    "plt.legend(frameon=True, shadow=True, framealpha=0.7, loc=0, prop={\"size\": 14})"
   ]
  },
  {
   "cell_type": "code",
   "execution_count": 58,
   "metadata": {},
   "outputs": [
    {
     "name": "stdout",
     "output_type": "stream",
     "text": [
      "mean difference = 30390.658346364693\n",
      "R^2 = 0.33697900494201316\n"
     ]
    }
   ],
   "source": [
    "# Print mean squared error and R^2 on the test set\n",
    "print('mean difference =',np.mean((model.predict(test_features) - test_labels) ** 2))\n",
    "print('R^2 =',model.score(test_features, test_labels))"
   ]
  },
  {
   "cell_type": "code",
   "execution_count": null,
   "metadata": {},
   "outputs": [],
   "source": []
  }
 ],
 "metadata": {
  "kernelspec": {
   "display_name": "Python 3",
   "language": "python",
   "name": "python3"
  },
  "language_info": {
   "codemirror_mode": {
    "name": "ipython",
    "version": 3
   },
   "file_extension": ".py",
   "mimetype": "text/x-python",
   "name": "python",
   "nbconvert_exporter": "python",
   "pygments_lexer": "ipython3",
   "version": "3.8.5"
  }
 },
 "nbformat": 4,
 "nbformat_minor": 4
}
